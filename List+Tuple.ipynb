{
  "nbformat": 4,
  "nbformat_minor": 0,
  "metadata": {
    "colab": {
      "name": "List+Tuple.ipynb",
      "provenance": [],
      "collapsed_sections": [],
      "authorship_tag": "ABX9TyPAI5+whDFPuMRcId/r9G42",
      "include_colab_link": true
    },
    "kernelspec": {
      "name": "python3",
      "display_name": "Python 3"
    },
    "language_info": {
      "name": "python"
    }
  },
  "cells": [
    {
      "cell_type": "markdown",
      "metadata": {
        "id": "view-in-github",
        "colab_type": "text"
      },
      "source": [
        "<a href=\"https://colab.research.google.com/github/kushagrathisside/ML-Recommended-Resources/blob/main/List%2BTuple.ipynb\" target=\"_parent\"><img src=\"https://colab.research.google.com/assets/colab-badge.svg\" alt=\"Open In Colab\"/></a>"
      ]
    },
    {
      "cell_type": "code",
      "execution_count": 3,
      "metadata": {
        "colab": {
          "base_uri": "https://localhost:8080/"
        },
        "id": "QnPyOhDc1VvX",
        "outputId": "93769306-e186-4b14-d856-14bbee68544c"
      },
      "outputs": [
        {
          "output_type": "execute_result",
          "data": {
            "text/plain": [
              "123"
            ]
          },
          "metadata": {},
          "execution_count": 3
        }
      ],
      "source": [
        "list1=[123,'kush','cse']\n",
        "list1\n",
        "#list1[0]"
      ]
    },
    {
      "cell_type": "code",
      "source": [
        "print(type(list1[0]))\n",
        "print(type(list1[1]))"
      ],
      "metadata": {
        "colab": {
          "base_uri": "https://localhost:8080/"
        },
        "id": "s1NDwvGg2U78",
        "outputId": "09b85862-562c-495f-8156-61e5e59ea4f5"
      },
      "execution_count": 4,
      "outputs": [
        {
          "output_type": "stream",
          "name": "stdout",
          "text": [
            "<class 'int'>\n",
            "<class 'str'>\n"
          ]
        }
      ]
    },
    {
      "cell_type": "code",
      "source": [
        "kush=['2024cse1172','kush',888]\n",
        "kush.append('cse')\n",
        "kush"
      ],
      "metadata": {
        "colab": {
          "base_uri": "https://localhost:8080/"
        },
        "id": "aR8c2hIe21Iq",
        "outputId": "40beba35-d96e-460a-f1ce-b9588ae98ef2"
      },
      "execution_count": 17,
      "outputs": [
        {
          "output_type": "execute_result",
          "data": {
            "text/plain": [
              "['2024cse1172', 'kush', 888, 'cse']"
            ]
          },
          "metadata": {},
          "execution_count": 17
        }
      ]
    },
    {
      "cell_type": "code",
      "source": [
        "kush1=kush[:]   #value\n",
        "kush1"
      ],
      "metadata": {
        "colab": {
          "base_uri": "https://localhost:8080/"
        },
        "id": "2O1oG6Cb3Rdp",
        "outputId": "ab53048c-25da-4c7a-cc64-116b93856caf"
      },
      "execution_count": 18,
      "outputs": [
        {
          "output_type": "execute_result",
          "data": {
            "text/plain": [
              "['2024cse1172', 'kush', 888, 'cse']"
            ]
          },
          "metadata": {},
          "execution_count": 18
        }
      ]
    },
    {
      "cell_type": "code",
      "source": [
        "kush2=kush       #address\n",
        "kush2"
      ],
      "metadata": {
        "colab": {
          "base_uri": "https://localhost:8080/"
        },
        "id": "gVs_5q1C3xSH",
        "outputId": "1adb8a3b-2842-4f47-f8a2-185e5410d486"
      },
      "execution_count": 19,
      "outputs": [
        {
          "output_type": "execute_result",
          "data": {
            "text/plain": [
              "['2024cse1172', 'kush', 888, 'cse']"
            ]
          },
          "metadata": {},
          "execution_count": 19
        }
      ]
    },
    {
      "cell_type": "code",
      "source": [
        "kush2.append('123')\n",
        "kush"
      ],
      "metadata": {
        "colab": {
          "base_uri": "https://localhost:8080/"
        },
        "id": "b-W3sBI_4M2O",
        "outputId": "160721ce-c732-44be-802b-94ae7ac4115c"
      },
      "execution_count": 20,
      "outputs": [
        {
          "output_type": "execute_result",
          "data": {
            "text/plain": [
              "['2024cse1172', 'kush', 888, 'cse', '123']"
            ]
          },
          "metadata": {},
          "execution_count": 20
        }
      ]
    },
    {
      "cell_type": "code",
      "source": [
        "kush1"
      ],
      "metadata": {
        "colab": {
          "base_uri": "https://localhost:8080/"
        },
        "id": "OjqvRbSi5n5j",
        "outputId": "64a9306d-9cb6-483f-d602-ca69e2202062"
      },
      "execution_count": 21,
      "outputs": [
        {
          "output_type": "execute_result",
          "data": {
            "text/plain": [
              "['2024cse1172', 'kush', 888, 'cse']"
            ]
          },
          "metadata": {},
          "execution_count": 21
        }
      ]
    },
    {
      "cell_type": "code",
      "source": [
        "kush2"
      ],
      "metadata": {
        "colab": {
          "base_uri": "https://localhost:8080/"
        },
        "id": "1URZIcxh542j",
        "outputId": "e77ae926-e12d-48c9-b5a4-032ae981d2be"
      },
      "execution_count": 22,
      "outputs": [
        {
          "output_type": "execute_result",
          "data": {
            "text/plain": [
              "['2024cse1172', 'kush', 888, 'cse', '123']"
            ]
          },
          "metadata": {},
          "execution_count": 22
        }
      ]
    },
    {
      "cell_type": "code",
      "source": [
        "kush3=kush1+kush2\n",
        "kush3"
      ],
      "metadata": {
        "colab": {
          "base_uri": "https://localhost:8080/"
        },
        "id": "ngJpUbF0563x",
        "outputId": "115793ce-5c6e-4841-8ab2-23246e500f79"
      },
      "execution_count": 24,
      "outputs": [
        {
          "output_type": "execute_result",
          "data": {
            "text/plain": [
              "['2024cse1172', 'kush', 888, 'cse', '2024cse1172', 'kush', 888, 'cse', '123']"
            ]
          },
          "metadata": {},
          "execution_count": 24
        }
      ]
    },
    {
      "cell_type": "code",
      "source": [
        "kush3=kush3+['2']"
      ],
      "metadata": {
        "id": "mCFVafcD6ID6"
      },
      "execution_count": 26,
      "outputs": []
    },
    {
      "cell_type": "code",
      "source": [
        "kush3[9]=12345 #replace\n",
        "kush3"
      ],
      "metadata": {
        "colab": {
          "base_uri": "https://localhost:8080/"
        },
        "id": "YTAn6atp6-ML",
        "outputId": "3299d4c6-31d0-492e-d9cf-71c2b9c6d171"
      },
      "execution_count": 29,
      "outputs": [
        {
          "output_type": "execute_result",
          "data": {
            "text/plain": [
              "['2024cse1172',\n",
              " 'kush',\n",
              " 888,\n",
              " 'cse',\n",
              " '2024cse1172',\n",
              " 'kush',\n",
              " 888,\n",
              " 'cse',\n",
              " '123',\n",
              " 12345]"
            ]
          },
          "metadata": {},
          "execution_count": 29
        }
      ]
    },
    {
      "cell_type": "code",
      "source": [
        "kush3[:]=[]\n",
        "kush3"
      ],
      "metadata": {
        "colab": {
          "base_uri": "https://localhost:8080/"
        },
        "id": "w-Jn40fm7bhs",
        "outputId": "6b49f61d-e187-466e-fe2f-d3a4a35f5afa"
      },
      "execution_count": 32,
      "outputs": [
        {
          "output_type": "execute_result",
          "data": {
            "text/plain": [
              "[]"
            ]
          },
          "metadata": {},
          "execution_count": 32
        }
      ]
    },
    {
      "cell_type": "code",
      "source": [
        "lis1=[]\n",
        "for i in range(0,4):\n",
        "  lis1.append(i)"
      ],
      "metadata": {
        "id": "iLYfdiYP7cVH"
      },
      "execution_count": 35,
      "outputs": []
    },
    {
      "cell_type": "code",
      "source": [
        "lis1"
      ],
      "metadata": {
        "colab": {
          "base_uri": "https://localhost:8080/"
        },
        "id": "3t9XcYqC8k-6",
        "outputId": "9f5004bd-fb7d-4442-b3c0-0bc3fca8156f"
      },
      "execution_count": 36,
      "outputs": [
        {
          "output_type": "execute_result",
          "data": {
            "text/plain": [
              "[0, 1, 2, 3]"
            ]
          },
          "metadata": {},
          "execution_count": 36
        }
      ]
    },
    {
      "cell_type": "code",
      "source": [
        "string='Myname is kushagra . I am 2ndy year student. my branch is cse.'\n",
        "list1=string.split('.')  # ab, cd, e\n",
        "list1"
      ],
      "metadata": {
        "colab": {
          "base_uri": "https://localhost:8080/"
        },
        "id": "9o1oNMno9BIr",
        "outputId": "62612dcd-e4af-40c1-918c-76d93b98575a"
      },
      "execution_count": 50,
      "outputs": [
        {
          "output_type": "execute_result",
          "data": {
            "text/plain": [
              "['Myname is kushagra ', ' I am 2ndy year student', ' my branch is cse', '']"
            ]
          },
          "metadata": {},
          "execution_count": 50
        }
      ]
    },
    {
      "cell_type": "code",
      "source": [
        "id='kushagrathisside '\n",
        "\n",
        "del(list1[1])\n",
        "list1[1]"
      ],
      "metadata": {
        "colab": {
          "base_uri": "https://localhost:8080/",
          "height": 35
        },
        "id": "s0SQj3nP95g1",
        "outputId": "7ca47dd4-698f-4c7c-bd4d-b613071694b7"
      },
      "execution_count": 58,
      "outputs": [
        {
          "output_type": "execute_result",
          "data": {
            "text/plain": [
              "' my branch is cse'"
            ],
            "application/vnd.google.colaboratory.intrinsic+json": {
              "type": "string"
            }
          },
          "metadata": {},
          "execution_count": 58
        }
      ]
    },
    {
      "cell_type": "code",
      "source": [
        "list2=['abc','2',3,4,5,6,7,8,9]\n",
        "#for i in list2:  elements of the list\n",
        "for i in range(0,len(list2)): #indexing\n",
        "  print(i)"
      ],
      "metadata": {
        "colab": {
          "base_uri": "https://localhost:8080/"
        },
        "id": "fccJ1YncBxnr",
        "outputId": "92bcce4d-5a39-4bff-a749-2eae8e0c7ea7"
      },
      "execution_count": 62,
      "outputs": [
        {
          "output_type": "stream",
          "name": "stdout",
          "text": [
            "0\n",
            "1\n",
            "2\n",
            "3\n",
            "4\n",
            "5\n",
            "6\n",
            "7\n",
            "8\n"
          ]
        }
      ]
    },
    {
      "cell_type": "code",
      "source": [
        "xyz=[[1,2,3],[4,5,6],[7,8,9]]\n",
        "'''\n",
        "1 2 3\n",
        "4 5 6\n",
        "7 8 9\n",
        "'''\n",
        "xyz"
      ],
      "metadata": {
        "colab": {
          "base_uri": "https://localhost:8080/"
        },
        "id": "qCrhxr8dDxSS",
        "outputId": "767d37a4-9424-4678-9583-8117164270a9"
      },
      "execution_count": 74,
      "outputs": [
        {
          "output_type": "execute_result",
          "data": {
            "text/plain": [
              "[[1, 2, 3], [4, 5, 6], [7, 8, 9]]"
            ]
          },
          "metadata": {},
          "execution_count": 74
        }
      ]
    },
    {
      "cell_type": "code",
      "source": [
        "for i in range(0,len(xyz)): #main list2D\n",
        "  n=[]\n",
        "  for i in range(0,len(xyz[0])): #mainlist 1D\n",
        "    n.append(i) #task\n",
        "  xyz.append(n)\n",
        "xyz  "
      ],
      "metadata": {
        "colab": {
          "base_uri": "https://localhost:8080/"
        },
        "id": "g5wgq1vFFZ0e",
        "outputId": "25b09516-685f-45f6-ad93-be29c19e7edc"
      },
      "execution_count": 75,
      "outputs": [
        {
          "output_type": "execute_result",
          "data": {
            "text/plain": [
              "[[1, 2, 3], [4, 5, 6], [7, 8, 9], [0, 1, 2], [0, 1, 2], [0, 1, 2]]"
            ]
          },
          "metadata": {},
          "execution_count": 75
        }
      ]
    },
    {
      "cell_type": "code",
      "source": [
        "string=str(xyz)"
      ],
      "metadata": {
        "id": "34-COvnhFa1L"
      },
      "execution_count": 76,
      "outputs": []
    },
    {
      "cell_type": "code",
      "source": [
        "string.strip()"
      ],
      "metadata": {
        "colab": {
          "base_uri": "https://localhost:8080/",
          "height": 35
        },
        "id": "7y_FfC3ZICe2",
        "outputId": "1343383f-831e-42be-b99d-b2bd175a0fc8"
      },
      "execution_count": 79,
      "outputs": [
        {
          "output_type": "execute_result",
          "data": {
            "text/plain": [
              "'[[1, 2, 3], [4, 5, 6], [7, 8, 9], [0, 1, 2], [0, 1, 2], [0, 1, 2]]'"
            ],
            "application/vnd.google.colaboratory.intrinsic+json": {
              "type": "string"
            }
          },
          "metadata": {},
          "execution_count": 79
        }
      ]
    },
    {
      "cell_type": "code",
      "source": [
        "kush3=[1,2,3,4,5,6,7,8,9]  # index- (-1*len to len-1)\n",
        "kush3[-9]"
      ],
      "metadata": {
        "colab": {
          "base_uri": "https://localhost:8080/"
        },
        "id": "Cu3DspyTIDio",
        "outputId": "e0dfd00f-58a5-49e7-9d9c-db43ab20136f"
      },
      "execution_count": 86,
      "outputs": [
        {
          "output_type": "execute_result",
          "data": {
            "text/plain": [
              "1"
            ]
          },
          "metadata": {},
          "execution_count": 86
        }
      ]
    },
    {
      "cell_type": "code",
      "source": [
        "tup=(10,20) #tuple\n",
        "tup"
      ],
      "metadata": {
        "colab": {
          "base_uri": "https://localhost:8080/"
        },
        "id": "qcXaq6g2O90U",
        "outputId": "b2fec0f4-c905-4136-b01b-d98f635e802a"
      },
      "execution_count": 88,
      "outputs": [
        {
          "output_type": "execute_result",
          "data": {
            "text/plain": [
              "(10, 20)"
            ]
          },
          "metadata": {},
          "execution_count": 88
        }
      ]
    },
    {
      "cell_type": "code",
      "source": [
        "print(tup[1])"
      ],
      "metadata": {
        "colab": {
          "base_uri": "https://localhost:8080/"
        },
        "id": "JQfnPxNXTSBt",
        "outputId": "f6d7d9f3-5a53-4884-e6dc-de784e1fde16"
      },
      "execution_count": 91,
      "outputs": [
        {
          "output_type": "stream",
          "name": "stdout",
          "text": [
            "20\n"
          ]
        }
      ]
    },
    {
      "cell_type": "code",
      "source": [
        "lib=(2024,'cse',117)"
      ],
      "metadata": {
        "id": "eb2KdJHITXj-"
      },
      "execution_count": 92,
      "outputs": []
    },
    {
      "cell_type": "code",
      "source": [
        "lib2=list(lib)"
      ],
      "metadata": {
        "id": "it5JxbugTroY"
      },
      "execution_count": 94,
      "outputs": []
    },
    {
      "cell_type": "code",
      "source": [
        "lib=tuple(lib2)"
      ],
      "metadata": {
        "id": "i9CvhK9vT5lW"
      },
      "execution_count": 95,
      "outputs": []
    },
    {
      "cell_type": "code",
      "source": [
        "lib"
      ],
      "metadata": {
        "id": "IYWTryWFUJ4D",
        "outputId": "ca5e8df4-add8-4563-e6e5-642fd9b654ca",
        "colab": {
          "base_uri": "https://localhost:8080/"
        }
      },
      "execution_count": 96,
      "outputs": [
        {
          "output_type": "execute_result",
          "data": {
            "text/plain": [
              "(2024, 'cse', 117)"
            ]
          },
          "metadata": {},
          "execution_count": 96
        }
      ]
    },
    {
      "cell_type": "code",
      "source": [
        "qw=[1,2,1,2,0,0,0] #set\n",
        "er=set(qw)\n",
        "er"
      ],
      "metadata": {
        "id": "awzUMgFqULGl",
        "outputId": "faf84d56-1cbe-494e-f44d-249942bc0d29",
        "colab": {
          "base_uri": "https://localhost:8080/"
        }
      },
      "execution_count": 97,
      "outputs": [
        {
          "output_type": "execute_result",
          "data": {
            "text/plain": [
              "{0, 1, 2}"
            ]
          },
          "metadata": {},
          "execution_count": 97
        }
      ]
    },
    {
      "cell_type": "code",
      "source": [
        ""
      ],
      "metadata": {
        "id": "3vLmZANnUnaD"
      },
      "execution_count": null,
      "outputs": []
    }
  ]
}